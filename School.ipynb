{
 "cells": [
  {
   "cell_type": "code",
   "execution_count": 1,
   "metadata": {},
   "outputs": [],
   "source": [
    "import pandas as pd"
   ]
  },
  {
   "cell_type": "code",
   "execution_count": 2,
   "metadata": {},
   "outputs": [],
   "source": [
    "df = pd.read_csv('school.csv')"
   ]
  },
  {
   "cell_type": "code",
   "execution_count": 3,
   "metadata": {},
   "outputs": [
    {
     "data": {
      "text/html": [
       "<div>\n",
       "<style scoped>\n",
       "    .dataframe tbody tr th:only-of-type {\n",
       "        vertical-align: middle;\n",
       "    }\n",
       "\n",
       "    .dataframe tbody tr th {\n",
       "        vertical-align: top;\n",
       "    }\n",
       "\n",
       "    .dataframe thead th {\n",
       "        text-align: right;\n",
       "    }\n",
       "</style>\n",
       "<table border=\"1\" class=\"dataframe\">\n",
       "  <thead>\n",
       "    <tr style=\"text-align: right;\">\n",
       "      <th></th>\n",
       "      <th>name_of_school</th>\n",
       "      <th>school_code</th>\n",
       "      <th>location/province</th>\n",
       "      <th>location/district</th>\n",
       "      <th>location/gps</th>\n",
       "      <th>location/_gps_latitude</th>\n",
       "      <th>location/_gps_longitude</th>\n",
       "      <th>location/_gps_altitude</th>\n",
       "      <th>location/_gps_precision</th>\n",
       "      <th>public_private</th>\n",
       "      <th>...</th>\n",
       "      <th>_submission_time</th>\n",
       "      <th>_tags</th>\n",
       "      <th>_notes</th>\n",
       "      <th>_version</th>\n",
       "      <th>_duration</th>\n",
       "      <th>_submitted_by</th>\n",
       "      <th>_total_media</th>\n",
       "      <th>_media_count</th>\n",
       "      <th>_media_all_received</th>\n",
       "      <th>_xform_id</th>\n",
       "    </tr>\n",
       "  </thead>\n",
       "  <tbody>\n",
       "    <tr>\n",
       "      <th>0</th>\n",
       "      <td>karucho primary</td>\n",
       "      <td>622</td>\n",
       "      <td>central</td>\n",
       "      <td>kirinyaga</td>\n",
       "      <td>-0.504939 37.385198</td>\n",
       "      <td>NaN</td>\n",
       "      <td>NaN</td>\n",
       "      <td>NaN</td>\n",
       "      <td>NaN</td>\n",
       "      <td>public</td>\n",
       "      <td>...</td>\n",
       "      <td>2013-03-04T08:22:55</td>\n",
       "      <td>NaN</td>\n",
       "      <td>NaN</td>\n",
       "      <td>201605172039</td>\n",
       "      <td>NaN</td>\n",
       "      <td>NaN</td>\n",
       "      <td>NaN</td>\n",
       "      <td>NaN</td>\n",
       "      <td>NaN</td>\n",
       "      <td>NaN</td>\n",
       "    </tr>\n",
       "    <tr>\n",
       "      <th>1</th>\n",
       "      <td>kahuru primary</td>\n",
       "      <td>800</td>\n",
       "      <td>central</td>\n",
       "      <td>nyeri</td>\n",
       "      <td>-0.458342 37.16117</td>\n",
       "      <td>NaN</td>\n",
       "      <td>NaN</td>\n",
       "      <td>NaN</td>\n",
       "      <td>NaN</td>\n",
       "      <td>public</td>\n",
       "      <td>...</td>\n",
       "      <td>2013-03-04T08:23:27</td>\n",
       "      <td>NaN</td>\n",
       "      <td>NaN</td>\n",
       "      <td>201605172039</td>\n",
       "      <td>NaN</td>\n",
       "      <td>NaN</td>\n",
       "      <td>NaN</td>\n",
       "      <td>NaN</td>\n",
       "      <td>NaN</td>\n",
       "      <td>NaN</td>\n",
       "    </tr>\n",
       "    <tr>\n",
       "      <th>2</th>\n",
       "      <td>gatugura primary</td>\n",
       "      <td>673</td>\n",
       "      <td>central</td>\n",
       "      <td>kirinyaga</td>\n",
       "      <td>-0.452951 37.312176</td>\n",
       "      <td>NaN</td>\n",
       "      <td>NaN</td>\n",
       "      <td>NaN</td>\n",
       "      <td>NaN</td>\n",
       "      <td>public</td>\n",
       "      <td>...</td>\n",
       "      <td>2013-03-04T08:23:14</td>\n",
       "      <td>NaN</td>\n",
       "      <td>NaN</td>\n",
       "      <td>201605172039</td>\n",
       "      <td>NaN</td>\n",
       "      <td>NaN</td>\n",
       "      <td>NaN</td>\n",
       "      <td>NaN</td>\n",
       "      <td>NaN</td>\n",
       "      <td>NaN</td>\n",
       "    </tr>\n",
       "    <tr>\n",
       "      <th>3</th>\n",
       "      <td>gitumbi sda primary</td>\n",
       "      <td>637</td>\n",
       "      <td>central</td>\n",
       "      <td>kirinyaga</td>\n",
       "      <td>-0.418671 37.394661</td>\n",
       "      <td>NaN</td>\n",
       "      <td>NaN</td>\n",
       "      <td>NaN</td>\n",
       "      <td>NaN</td>\n",
       "      <td>private</td>\n",
       "      <td>...</td>\n",
       "      <td>2013-03-04T08:22:51</td>\n",
       "      <td>NaN</td>\n",
       "      <td>NaN</td>\n",
       "      <td>201605172039</td>\n",
       "      <td>NaN</td>\n",
       "      <td>NaN</td>\n",
       "      <td>NaN</td>\n",
       "      <td>NaN</td>\n",
       "      <td>NaN</td>\n",
       "      <td>NaN</td>\n",
       "    </tr>\n",
       "    <tr>\n",
       "      <th>4</th>\n",
       "      <td>rev wajee elite academy primary school</td>\n",
       "      <td>51</td>\n",
       "      <td>central</td>\n",
       "      <td>nyeri</td>\n",
       "      <td>-0.564946 37.079286</td>\n",
       "      <td>NaN</td>\n",
       "      <td>NaN</td>\n",
       "      <td>NaN</td>\n",
       "      <td>NaN</td>\n",
       "      <td>private</td>\n",
       "      <td>...</td>\n",
       "      <td>2013-03-04T08:14:26</td>\n",
       "      <td>NaN</td>\n",
       "      <td>NaN</td>\n",
       "      <td>201605172039</td>\n",
       "      <td>NaN</td>\n",
       "      <td>NaN</td>\n",
       "      <td>NaN</td>\n",
       "      <td>NaN</td>\n",
       "      <td>NaN</td>\n",
       "      <td>NaN</td>\n",
       "    </tr>\n",
       "  </tbody>\n",
       "</table>\n",
       "<p>5 rows × 35 columns</p>\n",
       "</div>"
      ],
      "text/plain": [
       "                           name_of_school  school_code location/province  \\\n",
       "0                         karucho primary          622           central   \n",
       "1                          kahuru primary          800           central   \n",
       "2                        gatugura primary          673           central   \n",
       "3                     gitumbi sda primary          637           central   \n",
       "4  rev wajee elite academy primary school           51           central   \n",
       "\n",
       "  location/district         location/gps  location/_gps_latitude  \\\n",
       "0         kirinyaga  -0.504939 37.385198                     NaN   \n",
       "1             nyeri   -0.458342 37.16117                     NaN   \n",
       "2         kirinyaga  -0.452951 37.312176                     NaN   \n",
       "3         kirinyaga  -0.418671 37.394661                     NaN   \n",
       "4             nyeri  -0.564946 37.079286                     NaN   \n",
       "\n",
       "   location/_gps_longitude  location/_gps_altitude  location/_gps_precision  \\\n",
       "0                      NaN                     NaN                      NaN   \n",
       "1                      NaN                     NaN                      NaN   \n",
       "2                      NaN                     NaN                      NaN   \n",
       "3                      NaN                     NaN                      NaN   \n",
       "4                      NaN                     NaN                      NaN   \n",
       "\n",
       "  public_private  ...     _submission_time _tags _notes      _version  \\\n",
       "0         public  ...  2013-03-04T08:22:55   NaN    NaN  201605172039   \n",
       "1         public  ...  2013-03-04T08:23:27   NaN    NaN  201605172039   \n",
       "2         public  ...  2013-03-04T08:23:14   NaN    NaN  201605172039   \n",
       "3        private  ...  2013-03-04T08:22:51   NaN    NaN  201605172039   \n",
       "4        private  ...  2013-03-04T08:14:26   NaN    NaN  201605172039   \n",
       "\n",
       "   _duration  _submitted_by  _total_media  _media_count  _media_all_received  \\\n",
       "0        NaN            NaN           NaN           NaN                  NaN   \n",
       "1        NaN            NaN           NaN           NaN                  NaN   \n",
       "2        NaN            NaN           NaN           NaN                  NaN   \n",
       "3        NaN            NaN           NaN           NaN                  NaN   \n",
       "4        NaN            NaN           NaN           NaN                  NaN   \n",
       "\n",
       "   _xform_id  \n",
       "0        NaN  \n",
       "1        NaN  \n",
       "2        NaN  \n",
       "3        NaN  \n",
       "4        NaN  \n",
       "\n",
       "[5 rows x 35 columns]"
      ]
     },
     "execution_count": 3,
     "metadata": {},
     "output_type": "execute_result"
    }
   ],
   "source": [
    "df.head(5)"
   ]
  },
  {
   "cell_type": "code",
   "execution_count": 4,
   "metadata": {},
   "outputs": [
    {
     "data": {
      "text/plain": [
       "array(['public', 'private'], dtype=object)"
      ]
     },
     "execution_count": 4,
     "metadata": {},
     "output_type": "execute_result"
    }
   ],
   "source": [
    "df['public_private'].unique()"
   ]
  },
  {
   "cell_type": "code",
   "execution_count": 5,
   "metadata": {},
   "outputs": [
    {
     "data": {
      "text/plain": [
       "array(['kirinyaga', 'nyeri', 'maragua', 'thika', 'isiolo', 'nyandarua'],\n",
       "      dtype=object)"
      ]
     },
     "execution_count": 5,
     "metadata": {},
     "output_type": "execute_result"
    }
   ],
   "source": [
    "df['location/district'].unique()"
   ]
  },
  {
   "cell_type": "code",
   "execution_count": 6,
   "metadata": {},
   "outputs": [
    {
     "data": {
      "text/plain": [
       "public     48\n",
       "private    12\n",
       "Name: public_private, dtype: int64"
      ]
     },
     "execution_count": 6,
     "metadata": {},
     "output_type": "execute_result"
    }
   ],
   "source": [
    "df['public_private'].value_counts()"
   ]
  },
  {
   "cell_type": "code",
   "execution_count": 7,
   "metadata": {},
   "outputs": [],
   "source": [
    "df['school'] = df['public_private'] + df['location/district']"
   ]
  },
  {
   "cell_type": "markdown",
   "metadata": {},
   "source": [
    "### Nunber of public schools and private schools per district"
   ]
  },
  {
   "cell_type": "code",
   "execution_count": 8,
   "metadata": {},
   "outputs": [
    {
     "data": {
      "text/plain": [
       "publicmaragua       22\n",
       "publickirinyaga     12\n",
       "publicnyeri         10\n",
       "publicnyandarua      4\n",
       "privatemaragua       3\n",
       "privatekirinyaga     3\n",
       "privatenyeri         3\n",
       "privatethika         1\n",
       "privatenyandarua     1\n",
       "privateisiolo        1\n",
       "Name: school, dtype: int64"
      ]
     },
     "execution_count": 8,
     "metadata": {},
     "output_type": "execute_result"
    }
   ],
   "source": [
    "df['school'].value_counts()"
   ]
  },
  {
   "cell_type": "markdown",
   "metadata": {},
   "source": [
    "#### Percentage of private and public schools per district"
   ]
  },
  {
   "cell_type": "code",
   "execution_count": 9,
   "metadata": {},
   "outputs": [
    {
     "name": "stdout",
     "output_type": "stream",
     "text": [
      "{'maragua': 45.83333333333333}\n",
      "{'kirinyaga': 25.0}\n",
      "{'nyeri': 20.833333333333336}\n",
      "{'nyandarua': 8.333333333333332}\n",
      "{'thika': 0}\n",
      "{'isiolo': 0}\n"
     ]
    }
   ],
   "source": [
    "# % of public schools in maragua,kirinyaga,nyeri, nyandarua\n",
    "maragua = 22 / 48 * 100\n",
    "maragua\n",
    "\n",
    "kirinyaga = 12 / 48 * 100\n",
    "kirinyaga\n",
    "\n",
    "nyeri = 10 / 48 * 100\n",
    "nyeri\n",
    "\n",
    "nyandarua = 4 / 48 * 100\n",
    "nyandarua\n",
    "\n",
    "thika,isiolo = 0,0\n",
    "\n",
    "\n",
    "\n",
    "\n",
    "print({'maragua': maragua})\n",
    "print({'kirinyaga':kirinyaga})\n",
    "print({'nyeri':nyeri})\n",
    "print({'nyandarua':nyandarua})\n",
    "print({'thika':thika})\n",
    "print({'isiolo':isiolo})\n",
    "\n",
    "\n",
    "\n",
    "\n"
   ]
  },
  {
   "cell_type": "code",
   "execution_count": 10,
   "metadata": {},
   "outputs": [
    {
     "name": "stdout",
     "output_type": "stream",
     "text": [
      "{'maragua': 25.0}\n",
      "{'kirinyaga': 25.0}\n",
      "{'nyeri': 25.0}\n",
      "{'nyandarua': 8.333333333333332}\n",
      "{'thika': 8.333333333333332}\n",
      "{'isiolo': 8.333333333333332}\n"
     ]
    }
   ],
   "source": [
    "# % of private schools in maragua,kirinyaga,nyeri, nyandarua\n",
    "marag = 3 / 12 * 100\n",
    "marag\n",
    "\n",
    "kirinya = 3 / 12 * 100\n",
    "kirinya\n",
    "\n",
    "nyer = 3 / 12 * 100\n",
    "nyer\n",
    "\n",
    "nyandar = 1 / 12 * 100\n",
    "nyandar\n",
    "\n",
    "thik = 1 / 12 * 100\n",
    "thik\n",
    "\n",
    "isiol = 1 / 12 * 100\n",
    "isiol\n",
    "\n",
    "\n",
    "\n",
    "print({'maragua': marag})\n",
    "print({'kirinyaga':kirinya})\n",
    "print({'nyeri':nyer})\n",
    "print({'nyandarua':nyandar})\n",
    "print({'thika':thik})\n",
    "print({'isiolo':isiol})\n",
    "\n"
   ]
  },
  {
   "cell_type": "markdown",
   "metadata": {},
   "source": [
    "#### Question 3"
   ]
  },
  {
   "cell_type": "code",
   "execution_count": 11,
   "metadata": {},
   "outputs": [
    {
     "data": {
      "text/plain": [
       "<Figure size 640x480 with 1 Axes>"
      ]
     },
     "metadata": {},
     "output_type": "display_data"
    }
   ],
   "source": [
    "#no of  public schools per district\n",
    "import matplotlib.pyplot as plt\n",
    "import numpy as np\n",
    "no = [12,10,22,0,0,4]\n",
    "labels = ['kirinyaga', 'nyeri', 'maragua', 'thika', 'isiolo', 'nyandarua']\n",
    "\n",
    "index = np.arange(len(labels))\n",
    "plt.bar(index, no)\n",
    "plt.xlabel('District', fontsize=5)\n",
    "plt.ylabel('No of public schools', fontsize=5)\n",
    "plt.xticks(index, labels, fontsize=5, rotation=30)\n",
    "plt.title('public schools per district')\n",
    "plt.show()"
   ]
  },
  {
   "cell_type": "code",
   "execution_count": 12,
   "metadata": {},
   "outputs": [
    {
     "data": {
      "image/png": "[encoded data removed]",
      "text/plain": [
       "<Figure size 432x288 with 1 Axes>"
      ]
     },
     "metadata": {
      "needs_background": "light"
     },
     "output_type": "display_data"
    }
   ],
   "source": [
    "#no of  private schools per district\n",
    "import numpy as np\n",
    "no = [3,3,3,1,1,1]\n",
    "labels = ['kirinyaga', 'nyeri', 'maragua', 'thika', 'isiolo', 'nyandarua']\n",
    "\n",
    "index = np.arange(len(labels))\n",
    "plt.bar(index, no)\n",
    "plt.xlabel('District', fontsize=5)\n",
    "plt.ylabel('No of private schools', fontsize=5)\n",
    "plt.xticks(index, labels, fontsize=5, rotation=30)\n",
    "plt.title('private schools per district')\n",
    "plt.show()"
   ]
  },
  {
   "cell_type": "code",
   "execution_count": 13,
   "metadata": {},
   "outputs": [
    {
     "data": {
      "image/png": "[encoded data removed]",
      "text/plain": [
       "<Figure size 432x288 with 1 Axes>"
      ]
     },
     "metadata": {},
     "output_type": "display_data"
    }
   ],
   "source": [
    "#plot for qustion % of public schols per district\n",
    "import matplotlib.pyplot as plt\n",
    "\n",
    "# Pie chart\n",
    "labels = ['kirinyaga', 'nyeri', 'maragua', 'thika', 'isiolo', 'nyandarua']\n",
    "\n",
    "sizes = [kirinyaga, nyeri, maragua, thika, isiolo, nyandarua]\n",
    "\n",
    "explode = (0, 0.1, 0, 0,0.1,0)  \n",
    "fig1, ax1 = plt.subplots()\n",
    "ax1.pie(sizes, explode=explode, labels=labels, autopct='%1.1f%%',\n",
    "        shadow=True, startangle=90)\n",
    "ax1.axis('equal')  # Equal aspect ratio ensures that pie is drawn as a circle.\n",
    "\n",
    "plt.show()"
   ]
  },
  {
   "cell_type": "code",
   "execution_count": 14,
   "metadata": {},
   "outputs": [
    {
     "data": {
      "image/png": "[encoded data removed]",
      "text/plain": [
       "<Figure size 432x288 with 1 Axes>"
      ]
     },
     "metadata": {},
     "output_type": "display_data"
    }
   ],
   "source": [
    "#plot for qustion % of private schols per district\n",
    "import matplotlib.pyplot as plt\n",
    "\n",
    "# Pie chart\n",
    "labels = ['kirinyaga', 'nyeri', 'maragua', 'thika', 'isiolo', 'nyandarua']\n",
    "\n",
    "sizes = [kirinya, nyer, marag, thik, isiol, nyandar]\n",
    "\n",
    "explode = (0, 0.1, 0, 0,0.1,0)  \n",
    "fig1, ax1 = plt.subplots()\n",
    "ax1.pie(sizes, explode=explode, labels=labels, autopct='%1.1f%%',\n",
    "        shadow=True, startangle=90)\n",
    "ax1.axis('equal')  # Equal aspect ratio ensures that pie is drawn as a circle.\n",
    "\n",
    "plt.show()"
   ]
  },
  {
   "cell_type": "code",
   "execution_count": null,
   "metadata": {},
   "outputs": [],
   "source": []
  }
 ],
 "metadata": {
  "kernelspec": {
   "display_name": "Python 3",
   "language": "python",
   "name": "python3"
  },
  "language_info": {
   "codemirror_mode": {
    "name": "ipython",
    "version": 3
   },
   "file_extension": ".py",
   "mimetype": "text/x-python",
   "name": "python",
   "nbconvert_exporter": "python",
   "pygments_lexer": "ipython3",
   "version": "3.7.3"
  }
 },
 "nbformat": 4,
 "nbformat_minor": 2
}
